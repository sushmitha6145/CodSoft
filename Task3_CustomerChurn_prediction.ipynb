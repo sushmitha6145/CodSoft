{
  "cells": [
    {
      "cell_type": "markdown",
      "metadata": {
        "id": "view-in-github",
        "colab_type": "text"
      },
      "source": [
        "<a href=\"https://colab.research.google.com/github/sushmitha6145/CodSoft/blob/main/Task3_CustomerChurn_prediction.ipynb\" target=\"_parent\"><img src=\"https://colab.research.google.com/assets/colab-badge.svg\" alt=\"Open In Colab\"/></a>"
      ]
    },
    {
      "cell_type": "markdown",
      "source": [
        "[DataSet](https://www.kaggle.com/datasets/shantanudhakadd/bank-customer-churn-prediction)"
      ],
      "metadata": {
        "id": "_DyukXdrXKGz"
      }
    },
    {
      "cell_type": "code",
      "execution_count": null,
      "metadata": {
        "colab": {
          "background_save": true,
          "base_uri": "https://localhost:8080/"
        },
        "id": "6YgxdFqo4URQ",
        "outputId": "250b8c1a-1b42-4adf-fb67-270ae86b0772"
      },
      "outputs": [
        {
          "name": "stdout",
          "output_type": "stream",
          "text": [
            "Logistic Regression Performance:\n",
            "              precision    recall  f1-score   support\n",
            "\n",
            "           0       1.00      0.00      0.00       573\n",
            "           1       0.71      1.00      0.83      1427\n",
            "\n",
            "    accuracy                           0.71      2000\n",
            "   macro avg       0.86      0.50      0.42      2000\n",
            "weighted avg       0.80      0.71      0.59      2000\n",
            "\n",
            "AUC-ROC: 0.5124261469466325\n",
            "Random Forest Performance:\n",
            "              precision    recall  f1-score   support\n",
            "\n",
            "           0       0.21      0.01      0.02       573\n",
            "           1       0.71      0.98      0.83      1427\n",
            "\n",
            "    accuracy                           0.71      2000\n",
            "   macro avg       0.46      0.50      0.42      2000\n",
            "weighted avg       0.57      0.71      0.60      2000\n",
            "\n",
            "AUC-ROC: 0.5194876667999722\n",
            "XGBoost Performance:\n",
            "              precision    recall  f1-score   support\n",
            "\n",
            "           0       0.26      0.10      0.14       573\n",
            "           1       0.71      0.89      0.79      1427\n",
            "\n",
            "    accuracy                           0.66      2000\n",
            "   macro avg       0.49      0.49      0.47      2000\n",
            "weighted avg       0.58      0.66      0.60      2000\n",
            "\n",
            "AUC-ROC: 0.4932338312108415\n",
            "Best parameters for Random Forest: {'max_depth': None, 'min_samples_split': 2, 'n_estimators': 100}\n",
            "Tuned Random Forest Performance:\n",
            "              precision    recall  f1-score   support\n",
            "\n",
            "           0       0.21      0.01      0.02       573\n",
            "           1       0.71      0.98      0.83      1427\n",
            "\n",
            "    accuracy                           0.71      2000\n",
            "   macro avg       0.46      0.50      0.42      2000\n",
            "weighted avg       0.57      0.71      0.60      2000\n",
            "\n",
            "AUC-ROC: 0.5194876667999722\n"
          ]
        }
      ],
      "source": [
        "import pandas as pd\n",
        "from sklearn.model_selection import train_test_split, GridSearchCV\n",
        "from sklearn.preprocessing import StandardScaler, LabelEncoder\n",
        "from sklearn.linear_model import LogisticRegression\n",
        "from sklearn.ensemble import RandomForestClassifier\n",
        "from xgboost import XGBClassifier\n",
        "from sklearn.metrics import classification_report, roc_auc_score\n",
        "import warnings\n",
        "\n",
        "# Suppress warnings\n",
        "warnings.filterwarnings(\"ignore\")\n",
        "\n",
        "# Load the dataset\n",
        "df = pd.read_csv('/content/Churn_Modelling.csv')\n",
        "\n",
        "# Check for a column that seems like the target variable (e.g., binary)\n",
        "target_column = None\n",
        "for column in df.columns:\n",
        "    if df[column].nunique() == 2 and df[column].dtype == 'int64':\n",
        "        target_column = column\n",
        "        break\n",
        "\n",
        "# Verify target column existence\n",
        "if target_column is None:\n",
        "    raise KeyError(\"No suitable target variable found in the dataset. Please check the column types and values.\")\n",
        "\n",
        "# Handle missing values\n",
        "df.fillna(method='ffill', inplace=True)\n",
        "\n",
        "# Encode categorical variables\n",
        "label_encoders = {}\n",
        "for column in df.select_dtypes(include=['object']).columns:\n",
        "    label_encoders[column] = LabelEncoder()\n",
        "    df[column] = label_encoders[column].fit_transform(df[column])\n",
        "\n",
        "# Split the dataset into features and target\n",
        "X = df.drop(target_column, axis=1)\n",
        "y = df[target_column]\n",
        "\n",
        "# Split into training and testing sets\n",
        "X_train, X_test, y_train, y_test = train_test_split(X, y, test_size=0.2, random_state=42)\n",
        "\n",
        "# Scale numerical features\n",
        "scaler = StandardScaler()\n",
        "X_train = scaler.fit_transform(X_train)\n",
        "X_test = scaler.transform(X_test)\n",
        "\n",
        "# Logistic Regression\n",
        "lr_model = LogisticRegression()\n",
        "lr_model.fit(X_train, y_train)\n",
        "y_pred_lr = lr_model.predict(X_test)\n",
        "print(\"Logistic Regression Performance:\")\n",
        "print(classification_report(y_test, y_pred_lr, zero_division=1))  # Suppress warning\n",
        "print(\"AUC-ROC:\", roc_auc_score(y_test, lr_model.predict_proba(X_test)[:, 1]))\n",
        "\n",
        "# Random Forest\n",
        "rf_model = RandomForestClassifier(n_estimators=100, random_state=42)\n",
        "rf_model.fit(X_train, y_train)\n",
        "y_pred_rf = rf_model.predict(X_test)\n",
        "print(\"Random Forest Performance:\")\n",
        "print(classification_report(y_test, y_pred_rf, zero_division=1))  # Suppress warning\n",
        "print(\"AUC-ROC:\", roc_auc_score(y_test, rf_model.predict_proba(X_test)[:, 1]))\n",
        "\n",
        "# Gradient Boosting (XGBoost)\n",
        "xgb_model = XGBClassifier(random_state=42)\n",
        "xgb_model.fit(X_train, y_train)\n",
        "y_pred_xgb = xgb_model.predict(X_test)\n",
        "print(\"XGBoost Performance:\")\n",
        "print(classification_report(y_test, y_pred_xgb, zero_division=1))  # Suppress warning\n",
        "print(\"AUC-ROC:\", roc_auc_score(y_test, xgb_model.predict_proba(X_test)[:, 1]))\n",
        "\n",
        "# Hyperparameter Tuning for Random Forest\n",
        "param_grid = {\n",
        "    'n_estimators': [50, 100, 200],\n",
        "    'max_depth': [None, 10, 20, 30],\n",
        "    'min_samples_split': [2, 5, 10]\n",
        "}\n",
        "\n",
        "grid_search = GridSearchCV(estimator=rf_model, param_grid=param_grid, cv=5, scoring='roc_auc', n_jobs=-1)\n",
        "grid_search.fit(X_train, y_train)\n",
        "best_rf_model = grid_search.best_estimator_\n",
        "print(\"Best parameters for Random Forest:\", grid_search.best_params_)\n",
        "\n",
        "# Evaluate the tuned model\n",
        "y_pred_best_rf = best_rf_model.predict(X_test)\n",
        "print(\"Tuned Random Forest Performance:\")\n",
        "print(classification_report(y_test, y_pred_best_rf, zero_division=1))  # Suppress warning\n",
        "print(\"AUC-ROC:\", roc_auc_score(y_test, best_rf_model.predict_proba(X_test)[:, 1]))\n"
      ]
    },
    {
      "cell_type": "code",
      "execution_count": null,
      "metadata": {
        "id": "qHxRlDet3pbf"
      },
      "outputs": [],
      "source": []
    }
  ],
  "metadata": {
    "colab": {
      "provenance": [],
      "authorship_tag": "ABX9TyOmSSDZ8lomCXPvMr4IsvUt",
      "include_colab_link": true
    },
    "kernelspec": {
      "display_name": "Python 3",
      "name": "python3"
    },
    "language_info": {
      "name": "python"
    }
  },
  "nbformat": 4,
  "nbformat_minor": 0
}